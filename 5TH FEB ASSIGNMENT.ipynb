{
 "cells": [
  {
   "cell_type": "code",
   "execution_count": 2,
   "id": "e2d54eed-cbf5-4416-a307-52ddc9e8c93c",
   "metadata": {
    "tags": []
   },
   "outputs": [],
   "source": [
    "# Class is a blueprint or a template for creating objects.\n",
    "#It defines a set of attributes (fields) and methods (functions) that an object of that class can have.\n",
    "#Classes can be used to define objects of similar characteristics.\n",
    "\n",
    "#Object is an instance of a class. It has the same attributes and methods as defined in the class, but with different values.\n",
    "#An object is a unique entity, with its own state and behavior."
   ]
  },
  {
   "cell_type": "code",
   "execution_count": 3,
   "id": "b3ea5cb6-92ce-4a44-a307-76555b403478",
   "metadata": {
    "tags": []
   },
   "outputs": [
    {
     "data": {
      "text/plain": [
       "'hello dev kaushik dev kaushik is vella'"
      ]
     },
     "execution_count": 3,
     "metadata": {},
     "output_type": "execute_result"
    }
   ],
   "source": [
    "class second:\n",
    "    def greet(self):\n",
    "        return \"hello dev kaushik\"\n",
    "    def welo(self):\n",
    "        return \"dev kaushik is vella\"\n",
    "yaba = second()\n",
    "yaba.greet() +\" \"+ yaba.welo()\n"
   ]
  },
  {
   "cell_type": "code",
   "execution_count": 4,
   "id": "94f774d3-f82e-45b5-9f38-fcdb9bfdbabe",
   "metadata": {
    "tags": []
   },
   "outputs": [],
   "source": [
    "# These four pillars are Inheritance, Polymorphism, Encapsulation and Abstraction."
   ]
  },
  {
   "cell_type": "code",
   "execution_count": 5,
   "id": "e0f9e1ae-75f8-461b-96d5-569f94d30882",
   "metadata": {
    "tags": []
   },
   "outputs": [],
   "source": [
    "#The __init__ method is a special method in Python classes, commonly referred to as the \"constructor\".\n",
    "#It is automatically called when an object of the class is created,\n",
    "#and it allows the programmer to set the initial state of the object."
   ]
  },
  {
   "cell_type": "code",
   "execution_count": 6,
   "id": "6ee73674-1e3f-4a76-9972-0c25b5c15154",
   "metadata": {
    "tags": []
   },
   "outputs": [
    {
     "data": {
      "text/plain": [
       "('dev kaushik', 19, 'Sigma Male')"
      ]
     },
     "execution_count": 6,
     "metadata": {},
     "output_type": "execute_result"
    }
   ],
   "source": [
    "class details:\n",
    "    def __init__(self,name,age,gender):\n",
    "        self.name = name\n",
    "        self.age = age\n",
    "        self.gender = gender\n",
    "    def display(self):\n",
    "        return self.name,self.age,self.gender\n",
    "    \n",
    "obj1 = details(\"dev kaushik\",19,\"Sigma Male\")\n",
    "obj1.display()"
   ]
  },
  {
   "cell_type": "code",
   "execution_count": 7,
   "id": "fce88f1d-444c-467a-8003-abefab46b6e4",
   "metadata": {
    "tags": []
   },
   "outputs": [],
   "source": [
    "#n object-oriented programming, the self keyword is used to refer to the current instance of a class.\n",
    "#It is used inside a class method to refer to the attributes and methods of the object that the method is being called on."
   ]
  },
  {
   "cell_type": "code",
   "execution_count": 8,
   "id": "a3a8bc31-82f2-4ba1-b346-b6a97799693e",
   "metadata": {
    "tags": []
   },
   "outputs": [],
   "source": [
    "#What is inheritance? Give an example for each type of inheritance."
   ]
  },
  {
   "cell_type": "code",
   "execution_count": 1,
   "id": "86b217cb-52e1-4e89-ada7-bc0f893176e7",
   "metadata": {},
   "outputs": [],
   "source": [
    "# Inheritance is a mechanism in object-oriented programming that allows you to create a new class (known as a derived class) based on an existing class (known as the base class).\n",
    "# There are several types of inheritance in object-oriented programming, including:\n",
    "# Single inheritance: In this type of inheritance, a derived class is created from a single base class.\n",
    "# Multiple inheritance: In this type of inheritance, a derived class is created from multiple base classes\n",
    "# Multi-level inheritance: In this type of inheritance, a class can inherit from another derived class\n",
    "# Hierarchical inheritance: In this type of inheritance, multiple derived classes are created from a single base class.\n"
   ]
  },
  {
   "cell_type": "code",
   "execution_count": 3,
   "id": "62e01442-f466-485a-ac12-2a106554b5d6",
   "metadata": {
    "tags": []
   },
   "outputs": [
    {
     "name": "stdout",
     "output_type": "stream",
     "text": [
      "How does this animal speak\n",
      "A dog barks\n"
     ]
    }
   ],
   "source": [
    "class Animal:  \n",
    "    def speak(self):  \n",
    "        print(\"How does this animal speak\")  \n",
    "class Dog(Animal):  \n",
    "    def bark(self):  \n",
    "        print(\"A dog barks\")  \n",
    "d = Dog()  \n",
    "d.speak()  \n",
    "d.bark()  "
   ]
  },
  {
   "cell_type": "code",
   "execution_count": null,
   "id": "2dbf34ae-7a76-4257-b80a-a667510f887e",
   "metadata": {},
   "outputs": [],
   "source": [
    "class Animal:  \n",
    "    def speak(self):  \n",
    "        print(\"How does this Animal speak\")  \n",
    "#The child class Dog inherits the base class Animal  \n",
    "class Dog(Animal):  \n",
    "    def bark(self):  \n",
    "        print(\" A dog barks\")  \n",
    "#The child class Dogchild inherits another child class Dog  \n",
    "class DogChild(Dog):  \n",
    "    def eat(self):  \n",
    "        print(\"it eats bread\")  \n",
    "d = DogChild() \n",
    "d.speak()  \n",
    "d.bark()  \n",
    "\n",
    "d.eat()  "
   ]
  }
 ],
 "metadata": {
  "kernelspec": {
   "display_name": "Python 3 (ipykernel)",
   "language": "python",
   "name": "python3"
  },
  "language_info": {
   "codemirror_mode": {
    "name": "ipython",
    "version": 3
   },
   "file_extension": ".py",
   "mimetype": "text/x-python",
   "name": "python",
   "nbconvert_exporter": "python",
   "pygments_lexer": "ipython3",
   "version": "3.10.0"
  }
 },
 "nbformat": 4,
 "nbformat_minor": 5
}
